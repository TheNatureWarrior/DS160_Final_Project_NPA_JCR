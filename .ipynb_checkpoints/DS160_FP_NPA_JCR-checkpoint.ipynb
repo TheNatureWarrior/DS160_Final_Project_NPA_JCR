{
 "cells": [
  {
   "cell_type": "markdown",
   "id": "d73578dc-b7f7-4469-af63-01e8a0215452",
   "metadata": {},
   "source": [
    "## Final Project\n",
    "### Authors: Naat Ambrosino, Jerrin Redmon\n",
    "### Version: 1\n",
    "### Semester: Spring 2022"
   ]
  },
  {
   "cell_type": "code",
   "execution_count": null,
   "id": "7f9b22f1-0737-4594-ba43-bfe4db41a934",
   "metadata": {},
   "outputs": [],
   "source": []
  }
 ],
 "metadata": {
  "kernelspec": {
   "display_name": "Python 3",
   "language": "python",
   "name": "python3"
  },
  "language_info": {
   "codemirror_mode": {
    "name": "ipython",
    "version": 3
   },
   "file_extension": ".py",
   "mimetype": "text/x-python",
   "name": "python",
   "nbconvert_exporter": "python",
   "pygments_lexer": "ipython3",
   "version": "3.8.8"
  }
 },
 "nbformat": 4,
 "nbformat_minor": 5
}
