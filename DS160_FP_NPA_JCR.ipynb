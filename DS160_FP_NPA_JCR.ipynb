{
 "cells": [
  {
   "cell_type": "markdown",
   "id": "d73578dc-b7f7-4469-af63-01e8a0215452",
   "metadata": {},
   "source": [
    "## Final Project\n",
    "### Authors: Naat Ambrosino, Jerrin Redmon\n",
    "### Version: 1\n",
    "### Semester: Spring 2022"
   ]
  },
  {
   "cell_type": "code",
   "execution_count": 1,
   "id": "7f9b22f1-0737-4594-ba43-bfe4db41a934",
   "metadata": {},
   "outputs": [],
   "source": [
    "import pandas as pd\n",
    "import numpy as np\n",
    "import scipy.stats as stats\n",
    "import pylab \n",
    "import matplotlib.pyplot as plt\n",
    "%matplotlib inline\n",
    "\n",
    "#From Linear Regression file\n",
    "#For doing linear regression\n",
    "from sklearn.linear_model import LinearRegression\n",
    "import statsmodels.api as sm\n",
    "from statsmodels.formula.api import ols\n",
    "#For making synthetic datasets\n",
    "from sklearn.datasets import make_regression\n",
    "from sklearn.datasets import make_blobs\n",
    "\n",
    "#From Logistic regression file\n",
    "from sklearn.linear_model import LogisticRegression"
   ]
  },
  {
   "cell_type": "code",
   "execution_count": 2,
   "id": "98d6169f-05ec-497f-bb6f-d42c63887360",
   "metadata": {},
   "outputs": [],
   "source": [
    "dtest=pd.read_csv(\"testing.csv\")\n",
    "dtrain=pd.read_csv(\"training.csv\")"
   ]
  },
  {
   "cell_type": "code",
   "execution_count": null,
   "id": "282960a3-ca18-4776-9ce8-d6193b2c08e1",
   "metadata": {},
   "outputs": [],
   "source": []
  }
 ],
 "metadata": {
  "kernelspec": {
   "display_name": "Python 3",
   "language": "python",
   "name": "python3"
  },
  "language_info": {
   "codemirror_mode": {
    "name": "ipython",
    "version": 3
   },
   "file_extension": ".py",
   "mimetype": "text/x-python",
   "name": "python",
   "nbconvert_exporter": "python",
   "pygments_lexer": "ipython3",
   "version": "3.8.8"
  }
 },
 "nbformat": 4,
 "nbformat_minor": 5
}
